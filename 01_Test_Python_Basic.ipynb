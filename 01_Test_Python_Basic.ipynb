{
  "nbformat": 4,
  "nbformat_minor": 0,
  "metadata": {
    "colab": {
      "name": "01_Test_Python_Basic.ipynb",
      "provenance": [],
      "authorship_tag": "ABX9TyNS13WCijEelVuiXzZKT/EF",
      "include_colab_link": true
    },
    "kernelspec": {
      "name": "python3",
      "display_name": "Python 3"
    },
    "language_info": {
      "name": "python"
    }
  },
  "cells": [
    {
      "cell_type": "markdown",
      "metadata": {
        "id": "view-in-github",
        "colab_type": "text"
      },
      "source": [
        "<a href=\"https://colab.research.google.com/github/jacksoncoutinho/TestPythonScripts/blob/main/01_Test_Python_Basic.ipynb\" target=\"_parent\"><img src=\"https://colab.research.google.com/assets/colab-badge.svg\" alt=\"Open In Colab\"/></a>"
      ]
    },
    {
      "cell_type": "code",
      "metadata": {
        "colab": {
          "base_uri": "https://localhost:8080/"
        },
        "id": "2Lly7GOsAOKt",
        "outputId": "efe516c5-9c98-4436-c55a-66908875a59f"
      },
      "source": [
        "print(\"Hello World from GoogleColab!!!\")"
      ],
      "execution_count": 1,
      "outputs": [
        {
          "output_type": "stream",
          "text": [
            "Hello World from GoogleColab!!!\n"
          ],
          "name": "stdout"
        }
      ]
    }
  ]
}